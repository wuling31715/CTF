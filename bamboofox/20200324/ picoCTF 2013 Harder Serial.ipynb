{
 "cells": [
  {
   "cell_type": "code",
   "execution_count": 1,
   "metadata": {},
   "outputs": [],
   "source": [
    "from z3 import *"
   ]
  },
  {
   "cell_type": "code",
   "execution_count": 2,
   "metadata": {},
   "outputs": [],
   "source": [
    "x0 = Int('x0')\n",
    "x1 = Int('x1')\n",
    "x2 = Int('x2')\n",
    "x3 = Int('x3')\n",
    "x4 = Int('x4')\n",
    "x5 = Int('x5')\n",
    "x6 = Int('x6')\n",
    "x7 = Int('x7')\n",
    "x8 = Int('x8')\n",
    "x9 = Int('x9')\n",
    "x10 = Int('x10')\n",
    "x11 = Int('x11')\n",
    "x12 = Int('x12')\n",
    "x13 = Int('x13')\n",
    "x14 = Int('x14')\n",
    "x15 = Int('x15')\n",
    "x16 = Int('x16')\n",
    "x17 = Int('x17')\n",
    "x18 = Int('x18')\n",
    "x19 = Int('x19')"
   ]
  },
  {
   "cell_type": "code",
   "execution_count": 3,
   "metadata": {},
   "outputs": [
    {
     "name": "stdout",
     "output_type": "stream",
     "text": [
      "[x18 = 1,\n",
      " x0 = 4,\n",
      " x10 = 9,\n",
      " x13 = 9,\n",
      " x11 = 0,\n",
      " x16 = 8,\n",
      " x3 = 1,\n",
      " x14 = 5,\n",
      " x9 = 7,\n",
      " x8 = 5,\n",
      " x1 = 2,\n",
      " x5 = 7,\n",
      " x17 = 8,\n",
      " x15 = 7,\n",
      " x4 = 3,\n",
      " x6 = 2,\n",
      " x19 = 2,\n",
      " x2 = 8,\n",
      " x7 = 4,\n",
      " x12 = 3]\n"
     ]
    }
   ],
   "source": [
    "solve(\n",
    "    x15 + x4 == 10,\n",
    "    x1 * x18 == 2,\n",
    "    x15 / x9 == 1,\n",
    "    x17 - x0 == 4,\n",
    "    x5 - x17 == -1,\n",
    "    x15 - x1 == 5,\n",
    "    x1 * x10 == 18,\n",
    "    x8 + x13 == 14,\n",
    "    x18 * x8 == 5,\n",
    "    x4 * x11 == 0,\n",
    "    x8 + x9 == 12,\n",
    "    x12 - x19 == 1,\n",
    "    x9 % x17 == 7,    \n",
    "    x14 * x16 == 40,\n",
    "    x7 - x4 == 1,\n",
    "    x6 + x0 == 6,\n",
    "    x2 - x16 == 0,\n",
    "    x4 - x6 == 1,\n",
    "    x0 % x5 == 4,\n",
    "    x5 * x11 == 0,\n",
    "    x10 % x15 == 2,\n",
    "    x11 / x3 == 0,\n",
    "    x14 - x13 == -4,\n",
    "    x18 + x19 == 3,    \n",
    "    x3 >= 0\n",
    ")"
   ]
  },
  {
   "cell_type": "code",
   "execution_count": 4,
   "metadata": {},
   "outputs": [],
   "source": [
    "flag = \"42813724579039578812\""
   ]
  },
  {
   "cell_type": "code",
   "execution_count": null,
   "metadata": {},
   "outputs": [],
   "source": []
  }
 ],
 "metadata": {
  "kernelspec": {
   "display_name": "Python 3",
   "language": "python",
   "name": "python3"
  },
  "language_info": {
   "codemirror_mode": {
    "name": "ipython",
    "version": 3
   },
   "file_extension": ".py",
   "mimetype": "text/x-python",
   "name": "python",
   "nbconvert_exporter": "python",
   "pygments_lexer": "ipython3",
   "version": "3.6.9"
  }
 },
 "nbformat": 4,
 "nbformat_minor": 2
}
